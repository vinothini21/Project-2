{
 "cells": [
  {
   "cell_type": "code",
   "execution_count": 1,
   "metadata": {},
   "outputs": [],
   "source": [
    "# importing dependencies\n",
    "import pandas as pd\n",
    "import matplotlib.pyplot as plt\n",
    "import numpy as np\n",
    "import os"
   ]
  },
  {
   "cell_type": "code",
   "execution_count": 2,
   "metadata": {},
   "outputs": [
    {
     "data": {
      "text/html": [
       "<div>\n",
       "<style scoped>\n",
       "    .dataframe tbody tr th:only-of-type {\n",
       "        vertical-align: middle;\n",
       "    }\n",
       "\n",
       "    .dataframe tbody tr th {\n",
       "        vertical-align: top;\n",
       "    }\n",
       "\n",
       "    .dataframe thead th {\n",
       "        text-align: right;\n",
       "    }\n",
       "</style>\n",
       "<table border=\"1\" class=\"dataframe\">\n",
       "  <thead>\n",
       "    <tr style=\"text-align: right;\">\n",
       "      <th></th>\n",
       "      <th>Manufacturer\t2011\t2012\t2013\t2014\t2015\t2016\t2017</th>\n",
       "    </tr>\n",
       "  </thead>\n",
       "  <tbody>\n",
       "    <tr>\n",
       "      <th>0</th>\n",
       "      <td>BMW\\t0\\t965\\t0\\t6092\\t11896\\t13620\\t19538</td>\n",
       "    </tr>\n",
       "    <tr>\n",
       "      <th>1</th>\n",
       "      <td>BMW \\t0\\t0\\t0\\t555\\t2265\\t1594\\t488</td>\n",
       "    </tr>\n",
       "    <tr>\n",
       "      <th>2</th>\n",
       "      <td>Cadillac \\t0\\t0\\t6\\t1310\\t1024\\t534\\t17</td>\n",
       "    </tr>\n",
       "    <tr>\n",
       "      <th>3</th>\n",
       "      <td>Chevrolet \\t7671\\t23461\\t23654\\t19950\\t18022\\t...</td>\n",
       "    </tr>\n",
       "    <tr>\n",
       "      <th>4</th>\n",
       "      <td>Fiat \\t0\\t0\\t260\\t1503\\t4569\\t3897\\t5380</td>\n",
       "    </tr>\n",
       "  </tbody>\n",
       "</table>\n",
       "</div>"
      ],
      "text/plain": [
       "  Manufacturer\\t2011\\t2012\\t2013\\t2014\\t2015\\t2016\\t2017\n",
       "0          BMW\\t0\\t965\\t0\\t6092\\t11896\\t13620\\t19538    \n",
       "1                BMW \\t0\\t0\\t0\\t555\\t2265\\t1594\\t488    \n",
       "2            Cadillac \\t0\\t0\\t6\\t1310\\t1024\\t534\\t17    \n",
       "3  Chevrolet \\t7671\\t23461\\t23654\\t19950\\t18022\\t...    \n",
       "4           Fiat \\t0\\t0\\t260\\t1503\\t4569\\t3897\\t5380    "
      ]
     },
     "execution_count": 2,
     "metadata": {},
     "output_type": "execute_result"
    }
   ],
   "source": [
    "#Reading the  csv file\n",
    "\n",
    "sales_data = os.path.join(\"../data/Sales_by_model.csv\")\n",
    "sales_df = pd.read_csv(sales_data, skipinitialspace = True, low_memory=False)\n",
    "sales_df.head()"
   ]
  },
  {
   "cell_type": "code",
   "execution_count": 76,
   "metadata": {},
   "outputs": [
    {
     "data": {
      "text/html": [
       "<div>\n",
       "<style scoped>\n",
       "    .dataframe tbody tr th:only-of-type {\n",
       "        vertical-align: middle;\n",
       "    }\n",
       "\n",
       "    .dataframe tbody tr th {\n",
       "        vertical-align: top;\n",
       "    }\n",
       "\n",
       "    .dataframe thead th {\n",
       "        text-align: right;\n",
       "    }\n",
       "</style>\n",
       "<table border=\"1\" class=\"dataframe\">\n",
       "  <thead>\n",
       "    <tr style=\"text-align: right;\">\n",
       "      <th></th>\n",
       "      <th>2011</th>\n",
       "      <th>2012</th>\n",
       "      <th>2013</th>\n",
       "      <th>2014</th>\n",
       "      <th>2015</th>\n",
       "      <th>2016</th>\n",
       "      <th>2017</th>\n",
       "    </tr>\n",
       "    <tr>\n",
       "      <th>Manufacturer</th>\n",
       "      <th></th>\n",
       "      <th></th>\n",
       "      <th></th>\n",
       "      <th></th>\n",
       "      <th></th>\n",
       "      <th></th>\n",
       "      <th></th>\n",
       "    </tr>\n",
       "  </thead>\n",
       "  <tbody>\n",
       "    <tr>\n",
       "      <th>BMW</th>\n",
       "      <td>0</td>\n",
       "      <td>965</td>\n",
       "      <td>0</td>\n",
       "      <td>6092</td>\n",
       "      <td>11896</td>\n",
       "      <td>13620</td>\n",
       "      <td>19538</td>\n",
       "    </tr>\n",
       "    <tr>\n",
       "      <th>BMW</th>\n",
       "      <td>0</td>\n",
       "      <td>0</td>\n",
       "      <td>0</td>\n",
       "      <td>555</td>\n",
       "      <td>2265</td>\n",
       "      <td>1594</td>\n",
       "      <td>488</td>\n",
       "    </tr>\n",
       "    <tr>\n",
       "      <th>Cadillac</th>\n",
       "      <td>0</td>\n",
       "      <td>0</td>\n",
       "      <td>6</td>\n",
       "      <td>1310</td>\n",
       "      <td>1024</td>\n",
       "      <td>534</td>\n",
       "      <td>17</td>\n",
       "    </tr>\n",
       "    <tr>\n",
       "      <th>Chevrolet</th>\n",
       "      <td>7671</td>\n",
       "      <td>23461</td>\n",
       "      <td>23654</td>\n",
       "      <td>19950</td>\n",
       "      <td>18022</td>\n",
       "      <td>27774</td>\n",
       "      <td>20372</td>\n",
       "    </tr>\n",
       "    <tr>\n",
       "      <th>Fiat</th>\n",
       "      <td>0</td>\n",
       "      <td>0</td>\n",
       "      <td>260</td>\n",
       "      <td>1503</td>\n",
       "      <td>4569</td>\n",
       "      <td>3897</td>\n",
       "      <td>5380</td>\n",
       "    </tr>\n",
       "    <tr>\n",
       "      <th>Ford</th>\n",
       "      <td>0</td>\n",
       "      <td>3057</td>\n",
       "      <td>14981</td>\n",
       "      <td>21947</td>\n",
       "      <td>18923</td>\n",
       "      <td>24767</td>\n",
       "      <td>19589</td>\n",
       "    </tr>\n",
       "    <tr>\n",
       "      <th>Honda</th>\n",
       "      <td>0</td>\n",
       "      <td>93</td>\n",
       "      <td>1095</td>\n",
       "      <td>856</td>\n",
       "      <td>65</td>\n",
       "      <td>0</td>\n",
       "      <td>0</td>\n",
       "    </tr>\n",
       "    <tr>\n",
       "      <th>Kia</th>\n",
       "      <td>0</td>\n",
       "      <td>0</td>\n",
       "      <td>0</td>\n",
       "      <td>250</td>\n",
       "      <td>1015</td>\n",
       "      <td>1728</td>\n",
       "      <td>2157</td>\n",
       "    </tr>\n",
       "    <tr>\n",
       "      <th>Mercedes</th>\n",
       "      <td>0</td>\n",
       "      <td>0</td>\n",
       "      <td>0</td>\n",
       "      <td>774</td>\n",
       "      <td>2024</td>\n",
       "      <td>1182</td>\n",
       "      <td>1207</td>\n",
       "    </tr>\n",
       "    <tr>\n",
       "      <th>Mitsubishi</th>\n",
       "      <td>76</td>\n",
       "      <td>588</td>\n",
       "      <td>1029</td>\n",
       "      <td>196</td>\n",
       "      <td>115</td>\n",
       "      <td>94</td>\n",
       "      <td>6</td>\n",
       "    </tr>\n",
       "    <tr>\n",
       "      <th>Nissan</th>\n",
       "      <td>9674</td>\n",
       "      <td>9819</td>\n",
       "      <td>22610</td>\n",
       "      <td>30200</td>\n",
       "      <td>17269</td>\n",
       "      <td>14006</td>\n",
       "      <td>11230</td>\n",
       "    </tr>\n",
       "    <tr>\n",
       "      <th>Porsche</th>\n",
       "      <td>0</td>\n",
       "      <td>0</td>\n",
       "      <td>51</td>\n",
       "      <td>991</td>\n",
       "      <td>1570</td>\n",
       "      <td>2504</td>\n",
       "      <td>1592</td>\n",
       "    </tr>\n",
       "    <tr>\n",
       "      <th>Smart</th>\n",
       "      <td>310</td>\n",
       "      <td>139</td>\n",
       "      <td>923</td>\n",
       "      <td>2594</td>\n",
       "      <td>1387</td>\n",
       "      <td>657</td>\n",
       "      <td>544</td>\n",
       "    </tr>\n",
       "    <tr>\n",
       "      <th>Tesla</th>\n",
       "      <td>0</td>\n",
       "      <td>2171</td>\n",
       "      <td>19000</td>\n",
       "      <td>16750</td>\n",
       "      <td>26408</td>\n",
       "      <td>47184</td>\n",
       "      <td>48375</td>\n",
       "    </tr>\n",
       "    <tr>\n",
       "      <th>Toyota</th>\n",
       "      <td>0</td>\n",
       "      <td>12749</td>\n",
       "      <td>12088</td>\n",
       "      <td>13264</td>\n",
       "      <td>4191</td>\n",
       "      <td>2474</td>\n",
       "      <td>20936</td>\n",
       "    </tr>\n",
       "    <tr>\n",
       "      <th>Toyota</th>\n",
       "      <td>0</td>\n",
       "      <td>192</td>\n",
       "      <td>1005</td>\n",
       "      <td>1184</td>\n",
       "      <td>18</td>\n",
       "      <td>0</td>\n",
       "      <td>0</td>\n",
       "    </tr>\n",
       "    <tr>\n",
       "      <th>Volkswagen</th>\n",
       "      <td>0</td>\n",
       "      <td>0</td>\n",
       "      <td>0</td>\n",
       "      <td>357</td>\n",
       "      <td>4232</td>\n",
       "      <td>0</td>\n",
       "      <td>3534</td>\n",
       "    </tr>\n",
       "    <tr>\n",
       "      <th>Volvo</th>\n",
       "      <td>0</td>\n",
       "      <td>0</td>\n",
       "      <td>0</td>\n",
       "      <td>0</td>\n",
       "      <td>86</td>\n",
       "      <td>2020</td>\n",
       "      <td>531</td>\n",
       "    </tr>\n",
       "  </tbody>\n",
       "</table>\n",
       "</div>"
      ],
      "text/plain": [
       "              2011   2012   2013   2014   2015   2016   2017\n",
       "Manufacturer                                                \n",
       "BMW              0    965      0   6092  11896  13620  19538\n",
       "BMW              0      0      0    555   2265   1594    488\n",
       "Cadillac         0      0      6   1310   1024    534     17\n",
       "Chevrolet     7671  23461  23654  19950  18022  27774  20372\n",
       "Fiat             0      0    260   1503   4569   3897   5380\n",
       "Ford             0   3057  14981  21947  18923  24767  19589\n",
       "Honda            0     93   1095    856     65      0      0\n",
       "Kia              0      0      0    250   1015   1728   2157\n",
       "Mercedes         0      0      0    774   2024   1182   1207\n",
       "Mitsubishi      76    588   1029    196    115     94      6\n",
       "Nissan        9674   9819  22610  30200  17269  14006  11230\n",
       "Porsche          0      0     51    991   1570   2504   1592\n",
       "Smart          310    139    923   2594   1387    657    544\n",
       "Tesla            0   2171  19000  16750  26408  47184  48375\n",
       "Toyota           0  12749  12088  13264   4191   2474  20936\n",
       "Toyota           0    192   1005   1184     18      0      0\n",
       "Volkswagen       0      0      0    357   4232      0   3534\n",
       "Volvo            0      0      0      0     86   2020    531"
      ]
     },
     "execution_count": 76,
     "metadata": {},
     "output_type": "execute_result"
    }
   ],
   "source": [
    "data_grouped = sales_df.groupby(['Manufacturer']).sum().drop(columns=['TOTAL'])\n",
    "\n",
    "data_grouped"
   ]
  },
  {
   "cell_type": "code",
   "execution_count": 80,
   "metadata": {},
   "outputs": [],
   "source": [
    "data_grouped.to_csv('sales_data.csv', encoding='utf-8')"
   ]
  },
  {
   "cell_type": "code",
   "execution_count": 13,
   "metadata": {
    "scrolled": true
   },
   "outputs": [
    {
     "data": {
      "text/plain": [
       "2011     object\n",
       "2012     object\n",
       "2013     object\n",
       "2014     object\n",
       "2015     object\n",
       "2016     object\n",
       "2017     object\n",
       "TOTAL    object\n",
       "dtype: object"
      ]
     },
     "execution_count": 13,
     "metadata": {},
     "output_type": "execute_result"
    }
   ],
   "source": [
    "data_grouped.dtypes"
   ]
  },
  {
   "cell_type": "code",
   "execution_count": 69,
   "metadata": {},
   "outputs": [
    {
     "data": {
      "text/plain": [
       "Manufacturer    object\n",
       "2011             int64\n",
       "2012             int64\n",
       "2013             int64\n",
       "2014             int64\n",
       "2015             int64\n",
       "2016             int64\n",
       "2017             int64\n",
       "TOTAL            int64\n",
       "dtype: object"
      ]
     },
     "execution_count": 69,
     "metadata": {},
     "output_type": "execute_result"
    }
   ],
   "source": [
    "sales_df.dtypes"
   ]
  },
  {
   "cell_type": "code",
   "execution_count": 19,
   "metadata": {},
   "outputs": [
    {
     "data": {
      "text/plain": [
       "17    51\n",
       "18     0\n",
       "Name: 2013, dtype: object"
      ]
     },
     "execution_count": 19,
     "metadata": {},
     "output_type": "execute_result"
    }
   ],
   "source": [
    "porsche = sales_df[sales_df[\"Manufacturer\"] == \"Porsche\"][\"2013\"]\n",
    "porsche"
   ]
  },
  {
   "cell_type": "code",
   "execution_count": 21,
   "metadata": {},
   "outputs": [
    {
     "data": {
      "text/plain": [
       "pandas.core.series.Series"
      ]
     },
     "execution_count": 21,
     "metadata": {},
     "output_type": "execute_result"
    }
   ],
   "source": [
    "type (porsche)"
   ]
  },
  {
   "cell_type": "code",
   "execution_count": 24,
   "metadata": {},
   "outputs": [
    {
     "data": {
      "text/plain": [
       "'510'"
      ]
     },
     "execution_count": 24,
     "metadata": {},
     "output_type": "execute_result"
    }
   ],
   "source": [
    "porsche[17]+porsche[18]"
   ]
  },
  {
   "cell_type": "code",
   "execution_count": 25,
   "metadata": {},
   "outputs": [
    {
     "data": {
      "text/plain": [
       "17    51\n",
       "18     0\n",
       "Name: 2013, dtype: object"
      ]
     },
     "execution_count": 25,
     "metadata": {},
     "output_type": "execute_result"
    }
   ],
   "source": [
    "porsche.infer_objects()"
   ]
  },
  {
   "cell_type": "code",
   "execution_count": 31,
   "metadata": {},
   "outputs": [],
   "source": [
    "p = pd.to_numeric(porsche)"
   ]
  },
  {
   "cell_type": "code",
   "execution_count": 32,
   "metadata": {},
   "outputs": [
    {
     "data": {
      "text/plain": [
       "51"
      ]
     },
     "execution_count": 32,
     "metadata": {},
     "output_type": "execute_result"
    }
   ],
   "source": [
    "p[17]+p[18]"
   ]
  },
  {
   "cell_type": "code",
   "execution_count": 44,
   "metadata": {},
   "outputs": [
    {
     "data": {
      "text/plain": [
       "pandas.core.series.Series"
      ]
     },
     "execution_count": 44,
     "metadata": {},
     "output_type": "execute_result"
    }
   ],
   "source": [
    "type (p)"
   ]
  },
  {
   "cell_type": "code",
   "execution_count": 64,
   "metadata": {},
   "outputs": [],
   "source": [
    "df = sales_df.infer_objects()"
   ]
  },
  {
   "cell_type": "code",
   "execution_count": 67,
   "metadata": {},
   "outputs": [
    {
     "data": {
      "text/plain": [
       "Manufacturer    object\n",
       "2011            object\n",
       "2012            object\n",
       "2013            object\n",
       "2014            object\n",
       "2015            object\n",
       "2016            object\n",
       "2017            object\n",
       "TOTAL           object\n",
       "dtype: object"
      ]
     },
     "execution_count": 67,
     "metadata": {},
     "output_type": "execute_result"
    }
   ],
   "source": [
    "df.dtypes"
   ]
  },
  {
   "cell_type": "code",
   "execution_count": null,
   "metadata": {},
   "outputs": [],
   "source": []
  }
 ],
 "metadata": {
  "kernelspec": {
   "display_name": "Python [conda env:pythondata]",
   "language": "python",
   "name": "conda-env-pythondata-py"
  },
  "language_info": {
   "codemirror_mode": {
    "name": "ipython",
    "version": 3
   },
   "file_extension": ".py",
   "mimetype": "text/x-python",
   "name": "python",
   "nbconvert_exporter": "python",
   "pygments_lexer": "ipython3",
   "version": "3.6.4"
  }
 },
 "nbformat": 4,
 "nbformat_minor": 2
}
